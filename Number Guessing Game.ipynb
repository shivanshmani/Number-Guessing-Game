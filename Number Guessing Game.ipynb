{
 "cells": [
  {
   "cell_type": "code",
   "execution_count": 1,
   "id": "d7ec7fb7",
   "metadata": {
    "scrolled": true
   },
   "outputs": [
    {
     "name": "stdout",
     "output_type": "stream",
     "text": [
      "Enter a number: 1\n",
      "Please type a number next time.\n",
      "Make a guess: 2\n",
      "You were above the number!\n",
      "Make a guess: 0\n",
      "You got it!\n",
      "You got it in 2 guesses\n"
     ]
    }
   ],
   "source": [
    "import random \n",
    "top_of_range = input(\"Enter a number: \")\n",
    "\n",
    "if top_of_range.isdigit():\n",
    "    top_of_range = int(top_of_range)\n",
    "    \n",
    "    if top_of_range<=0:\n",
    "        print(\"Please enter a number larger than 0 next time.\")\n",
    "    else: \n",
    "        print(\"Please type a number next time.\")\n",
    "        quit()\n",
    "random_number=random.randint(0, top_of_range)\n",
    "guesses=0\n",
    "\n",
    "while True:\n",
    "    guesses+=1\n",
    "    user_guess=input(\"Make a guess: \")\n",
    "    if user_guess.isdigit():\n",
    "        user_guess = int(user_guess)\n",
    "    else:\n",
    "        print(\"Please type a number next time.\")\n",
    "        continue\n",
    "    \n",
    "    if user_guess == random_number:\n",
    "        print(\"You got it!\")\n",
    "        break;\n",
    "    elif user_guess>random_number:\n",
    "            print(\"You were above the number!\")\n",
    "    else:\n",
    "            print(\"You were below the number!\")\n",
    "        \n",
    "        \n",
    "print(\"You got it in\", guesses, \"guesses\")        \n",
    "    "
   ]
  },
  {
   "cell_type": "markdown",
   "id": "1153bb84",
   "metadata": {},
   "source": [
    "##### "
   ]
  }
 ],
 "metadata": {
  "kernelspec": {
   "display_name": "Python 3 (ipykernel)",
   "language": "python",
   "name": "python3"
  },
  "language_info": {
   "codemirror_mode": {
    "name": "ipython",
    "version": 3
   },
   "file_extension": ".py",
   "mimetype": "text/x-python",
   "name": "python",
   "nbconvert_exporter": "python",
   "pygments_lexer": "ipython3",
   "version": "3.11.5"
  }
 },
 "nbformat": 4,
 "nbformat_minor": 5
}
